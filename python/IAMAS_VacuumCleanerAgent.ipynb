{
  "nbformat": 4,
  "nbformat_minor": 0,
  "metadata": {
    "colab": {
      "name": "IAMAS - VacuumCleanerAgent.ipynb",
      "provenance": [],
      "collapsed_sections": []
    },
    "kernelspec": {
      "name": "python3",
      "display_name": "Python 3"
    },
    "language_info": {
      "name": "python"
    }
  },
  "cells": [
    {
      "cell_type": "markdown",
      "metadata": {
        "id": "4H5NBJBcXaED"
      },
      "source": [
        "**Intelligent Agents and Multi-Agent Systems**\n",
        "\n",
        "Lecturer: Ebenezer Agbozo <eagbozo@urfu.ru>\n",
        "\n",
        "\n",
        "For: Masters in Applied Informatics (IT Innovations in Business) - Yr.2. Sem 1\n",
        "\n",
        "Practical Session 1 (Exploring Intelligent Agents)\n",
        "\n",
        "\n",
        "----------------------------\n",
        "\n",
        "**Simple Reflex Agents.**\n",
        "\n",
        "*Condition - Action rule*\n"
      ]
    },
    {
      "cell_type": "markdown",
      "metadata": {
        "id": "huS4YqSk8GZ4"
      },
      "source": [
        "create environment"
      ]
    },
    {
      "cell_type": "code",
      "metadata": {
        "id": "6l52S2uY7_VR"
      },
      "source": [
        "import random\n",
        "class Environment (object):\n",
        "  def __init__(self):\n",
        "    #initialize and set room conditions to 1 \n",
        "    # 0 - clean   .... 1 - dirty\n",
        "    self.RoomNumAndCondition = {'A': '1', 'B':'1'} \n",
        "    \n",
        "    self.RoomNumAndCondition['A'] = random.randint(0,1)\n",
        "    self.RoomNumAndCondition['B'] = random.randint(0,1)"
      ],
      "execution_count": null,
      "outputs": []
    },
    {
      "cell_type": "markdown",
      "metadata": {
        "id": "ww8OU4Ko-fqM"
      },
      "source": [
        "create agent (Reflex Agent) and assign to environment"
      ]
    },
    {
      "cell_type": "code",
      "metadata": {
        "id": "Ci3UU2Ik-e5W"
      },
      "source": [
        "class VacuumBot(Environment):\n",
        "  def __init__(self, Environment):\n",
        "    print(Environment.RoomNumAndCondition)\n",
        "\n",
        "    #place vacuum bot in a random room ---> A = 0; B = 1\n",
        "    vacuumLocation = random.randint(0,1) \n",
        "\n",
        "\n",
        "    #A\n",
        "    if vacuumLocation == 0:\n",
        "      print(\"vacuum is in Room A\")\n",
        "      if Environment.RoomNumAndCondition['A'] == 1:\n",
        "        print(\"Room A is dirty\")\n",
        "        Environment.RoomNumAndCondition['A'] = 0\n",
        "        print(\"Room A is now Clean!\")\n",
        "        \n",
        "        #move to Room B\n",
        "        vacuumLocation = 1\n",
        "        print(\"MOVING TO Room B!\")\n",
        "      else:\n",
        "        print(\"Room A is already Clean!\")\n",
        "\n",
        "        #move to Room B\n",
        "        vacuumLocation = 1\n",
        "        print(\"MOVING TO Room B!\")\n",
        "\n",
        "        #clean Room A\n",
        "        if Environment.RoomNumAndCondition['B'] == 1:\n",
        "          print(\"Room B is dirty\")\n",
        "          Environment.RoomNumAndCondition['B'] = 0\n",
        "          print(\"Room B is now Clean!\")\n",
        "        else:\n",
        "          print(\"Room B is already Clean!\")\n",
        "\n",
        "      print(\"-------------------------------------------\")\n",
        "    #B\n",
        "    elif vacuumLocation == 1:\n",
        "      print(\"vacuum is in Room B\")\n",
        "      if Environment.RoomNumAndCondition['B'] == 1:\n",
        "        print(\"Room B is dirty\")\n",
        "        Environment.RoomNumAndCondition['B'] = 0\n",
        "        print(\"Room B is now Clean!\")\n",
        "\n",
        "        #move to Room A\n",
        "        vacuumLocation = 0\n",
        "        print(\"MOVING TO Room A!\")\n",
        "\n",
        "        #clean Room A\n",
        "        if Environment.RoomNumAndCondition['A'] == 1:\n",
        "          print(\"Room A is dirty\")\n",
        "          Environment.RoomNumAndCondition['A'] = 0\n",
        "          print(\"Room A is now Clean!\")\n",
        "        else:\n",
        "          print(\"Room A is already Clean!\")\n",
        "\n",
        "      else:\n",
        "        print(\"Room B is already Clean!\")\n",
        "\n",
        "        #move to Room A\n",
        "        vacuumLocation = 0\n",
        "        print(\"MOVING TO Room A!\")\n",
        "\n",
        "      print(\"-------------------------------------------\")\n",
        "    \n",
        "    print(Environment.RoomNumAndCondition)\n",
        "    print(\"Cleaning Done! - Vacuum Bot Now Resting :) \")"
      ],
      "execution_count": null,
      "outputs": []
    },
    {
      "cell_type": "code",
      "metadata": {
        "colab": {
          "base_uri": "https://localhost:8080/"
        },
        "id": "QDruPyvyFkx-",
        "outputId": "c7828b83-46ea-4ead-f4ee-f8b9e6c43799"
      },
      "source": [
        "hostel = Environment()\n",
        "RoomBot = VacuumBot(hostel)"
      ],
      "execution_count": null,
      "outputs": [
        {
          "output_type": "stream",
          "text": [
            "{'A': 1, 'B': 1}\n",
            "vacuum is in Room B\n",
            "Room B is dirty\n",
            "Room B is now Clean!\n",
            "MOVING TO Room A!\n",
            "Room A is dirty\n",
            "Room A is now Clean!\n",
            "-------------------------------------------\n",
            "{'A': 0, 'B': 0}\n",
            "Cleaning Done! - Vacuum Bot Now Resting :) \n"
          ],
          "name": "stdout"
        }
      ]
    },
    {
      "cell_type": "markdown",
      "metadata": {
        "id": "78DlDoowXAZi"
      },
      "source": [
        "***can you add a power attribute to the agent, such that when it cleans, the power reduces, and when it doesn't clean the power stays the same?***"
      ]
    },
    {
      "cell_type": "markdown",
      "metadata": {
        "id": "Wo3k4H5m8hDx"
      },
      "source": [
        "**Assignment**\n",
        "\n",
        "\n",
        "*with the same logic, write an agent that regulates the temperature of 2 rooms in a house depending on the season.*\n",
        "\n",
        "*   CurrentSeason (randomly assigned to the environment): Winter/Summer\n",
        "*   Rooms (first room is randomly selected by the agent): A & B\n",
        "*   Temperature (randomly assigned): cold / hot\n",
        "*   Agent Actions: warm / cool"
      ]
    }
  ]
}